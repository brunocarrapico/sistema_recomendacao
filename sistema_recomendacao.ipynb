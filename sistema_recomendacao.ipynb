{
  "nbformat": 4,
  "nbformat_minor": 0,
  "metadata": {
    "colab": {
      "provenance": [],
      "collapsed_sections": [],
      "authorship_tag": "ABX9TyOMpY5I1KcubhpCUgpph0iH",
      "include_colab_link": true
    },
    "kernelspec": {
      "name": "python3",
      "display_name": "Python 3"
    },
    "language_info": {
      "name": "python"
    }
  },
  "cells": [
    {
      "cell_type": "markdown",
      "metadata": {
        "id": "view-in-github",
        "colab_type": "text"
      },
      "source": [
        "<a href=\"https://colab.research.google.com/github/brunocarrapico/sistema_recomendacao/blob/main/sistema_recomendacao.ipynb\" target=\"_parent\"><img src=\"https://colab.research.google.com/assets/colab-badge.svg\" alt=\"Open In Colab\"/></a>"
      ]
    },
    {
      "cell_type": "markdown",
      "source": [
        "**Dicas**\n",
        "\n",
        "O que queremos recomendar?\n",
        "\n",
        "1. Alinhe com o gestor de produtos\n",
        "2. Testar"
      ],
      "metadata": {
        "id": "45IkAUkCva8q"
      }
    },
    {
      "cell_type": "code",
      "source": [
        "# frameworks\n",
        "\n",
        "import pandas as pd #dados\n",
        "import numpy as np #matrizes\n",
        "\n",
        "# analises graficas\n",
        "import matplotlib.pyplot as plt\n",
        "import seaborn as sns\n",
        "import plotly.express as px\n",
        "\n",
        "# avisos\n",
        "import warnings\n",
        "warnings.filterwarnings('ignore')\n",
        "\n",
        "# Ajustes de configuracao no pandas\n",
        "pd.set_option('display.max_rows', 100) # linhas\n",
        "pd.set_option('display.max_columns' , 50) #colunas\n",
        "\n",
        "# Ajustes no matplot\n",
        "plt.rcParams['figure.figsize'] = (15,6) #tamanho do grafico\n",
        "plt.style.use('seaborn-darkgrid') #estilo do grafico"
      ],
      "metadata": {
        "id": "i1TpMbYvvUIv"
      },
      "execution_count": 2,
      "outputs": []
    },
    {
      "cell_type": "markdown",
      "source": [
        "## **Importacao dos Dados**\n"
      ],
      "metadata": {
        "id": "oP8gT_0AyKy5"
      }
    },
    {
      "cell_type": "code",
      "source": [
        "# Ler os dados\n",
        "\n",
        "Dados_Livros = pd.read_csv('Books.csv')\n",
        "Dados_Avaliacao = pd.read_csv('Ratings.csv')\n",
        "Dados_Usuario = pd.read_csv('Users.csv')\n",
        "\n",
        "Dados_Livros.shape, Dados_Avaliacao.shape, Dados_Usuario.shape"
      ],
      "metadata": {
        "colab": {
          "base_uri": "https://localhost:8080/"
        },
        "id": "52riKUT6xnsj",
        "outputId": "eb70353f-0459-4f47-9ba6-bb0aa76c9366"
      },
      "execution_count": 4,
      "outputs": [
        {
          "output_type": "execute_result",
          "data": {
            "text/plain": [
              "((271360, 8), (1149780, 3), (278858, 3))"
            ]
          },
          "metadata": {},
          "execution_count": 4
        }
      ]
    }
  ]
}